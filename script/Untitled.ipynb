{
 "cells": [
  {
   "cell_type": "code",
   "execution_count": 23,
   "metadata": {},
   "outputs": [],
   "source": [
    "import glob\n",
    "from pathlib2 import Path\n",
    "paths = \"../*\"\n",
    "files = glob.glob(paths)\n",
    "#files.sort(key=os.path.getmtime)"
   ]
  },
  {
   "cell_type": "code",
   "execution_count": 56,
   "metadata": {},
   "outputs": [],
   "source": [
    "searchdir = ('basics','chicken','garden')\n",
    "def getSidebar(pre,post):\n",
    "    htm = \"\"\n",
    "    allfiles = {}\n",
    "    htm = htm +\"\\n\"+pre\n",
    "    for f in files:\n",
    "        if not Path(f).is_file() and Path(f).stem in searchdir:\n",
    "            htm = htm + \"\\n\"+\"- \"+Path(f).stem.capitalize()\n",
    "            print(\"- \"+Path(f).stem.capitalize())\n",
    "            foo = glob.glob(f+'/*')\n",
    "            for fim in foo:\n",
    "                b = fim.split('-')\n",
    "                li = ' '.join(b[3:])[0:-3]\n",
    "                htm = htm +\"\\n\" +\"  - [\"+li+\"](\"+Path(fim).stem+\"/\"+Path(fim).stem+\")\"\n",
    "                print(\"  -[\"+li+\"](\"+Path(f).stem+\"/\"+Path(fim).stem+\")\")\n",
    "                allfiles.setdefault(Path(fim).stem,Path(f).stem+\"/\"+Path(fim).stem)\n",
    "    htm = htm +\"\\n\" + post\n",
    "    htm = htm +'\\n'+\"- Paper Roll\"\n",
    "    print(\"- Paper Roll\")\n",
    "    keys = list(allfiles.keys())\n",
    "    keys.sort(reverse=True)\n",
    "    for a in keys:\n",
    "        htm =  htm +\"\\n\" +\"  - [\"+a+\"](\"+allfiles[a]+\")\"\n",
    "        print(\"  -[\"+a+\"](\"+allfiles[a]+\")\")\n",
    "    return htm\n",
    "\n"
   ]
  },
  {
   "cell_type": "code",
   "execution_count": 57,
   "metadata": {},
   "outputs": [
    {
     "data": {
      "text/plain": [
       "'Biochar Intro'"
      ]
     },
     "execution_count": 57,
     "metadata": {},
     "output_type": "execute_result"
    }
   ],
   "source": [
    "b = \"2022-12-24-Biochar-Intro\".split('-')\n",
    "\"Biochar Intro.md\"[0:-3]"
   ]
  },
  {
   "cell_type": "code",
   "execution_count": 58,
   "metadata": {},
   "outputs": [
    {
     "name": "stdout",
     "output_type": "stream",
     "text": [
      "- Basics\n",
      "  -[Biochar Intro](basics/2022-12-24-Biochar-Intro)\n",
      "- Chicken\n",
      "  -[Chicken Intro](chicken/2023-01-10-Chicken-Intro)\n",
      "- Garden\n",
      "  -[Biochar Cabbage](garden/2022-09-12-Biochar-Cabbage)\n",
      "  -[Garden Application](garden/2022-12-12-Garden-Application)\n",
      "- Paper Roll\n",
      "  -[2023-01-10-Chicken-Intro](chicken/2023-01-10-Chicken-Intro)\n",
      "  -[2022-12-24-Biochar-Intro](basics/2022-12-24-Biochar-Intro)\n",
      "  -[2022-12-12-Garden-Application](garden/2022-12-12-Garden-Application)\n",
      "  -[2022-09-12-Biochar-Cabbage](garden/2022-09-12-Biochar-Cabbage)\n"
     ]
    }
   ],
   "source": [
    "pre = \"&nbsp;&nbsp;![ig](https://tejasbuds.com/images/logo-small.png)\\n\\n* [Biochar Hub](./)\"\n",
    "post = \"* [Back to Tejas Buds](https://tejasbuds.com/)\\n* [About](https://tejasbuds.com/about.html)\\n* [Contact](./contact/)\"\n",
    "h = getSidebar(pre,post)\n",
    "with open('t.md','w') as foo:\n",
    "    foo.write(h)\n",
    "foo.close()"
   ]
  },
  {
   "cell_type": "code",
   "execution_count": null,
   "metadata": {},
   "outputs": [],
   "source": []
  }
 ],
 "metadata": {
  "kernelspec": {
   "display_name": "Python 3",
   "language": "python",
   "name": "python3"
  },
  "language_info": {
   "codemirror_mode": {
    "name": "ipython",
    "version": 3
   },
   "file_extension": ".py",
   "mimetype": "text/x-python",
   "name": "python",
   "nbconvert_exporter": "python",
   "pygments_lexer": "ipython3",
   "version": "3.8.5"
  }
 },
 "nbformat": 4,
 "nbformat_minor": 4
}
